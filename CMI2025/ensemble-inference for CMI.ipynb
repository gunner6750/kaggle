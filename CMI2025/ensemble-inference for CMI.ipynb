{
 "cells": [
  {
   "cell_type": "markdown",
   "id": "20b58d5c",
   "metadata": {
    "papermill": {
     "duration": 0.002838,
     "end_time": "2025-06-10T04:20:50.603782",
     "exception": false,
     "start_time": "2025-06-10T04:20:50.600944",
     "status": "completed"
    },
    "tags": []
   },
   "source": [
    "the traning process is in: https://www.kaggle.com/code/llkh0a/ensemble-training/"
   ]
  },
  {
   "cell_type": "code",
   "execution_count": 1,
   "id": "dbc58d3a",
   "metadata": {
    "execution": {
     "iopub.execute_input": "2025-06-10T04:20:50.609297Z",
     "iopub.status.busy": "2025-06-10T04:20:50.609086Z",
     "iopub.status.idle": "2025-06-10T04:20:50.734063Z",
     "shell.execute_reply": "2025-06-10T04:20:50.733188Z"
    },
    "papermill": {
     "duration": 0.128992,
     "end_time": "2025-06-10T04:20:50.735319",
     "exception": false,
     "start_time": "2025-06-10T04:20:50.606327",
     "status": "completed"
    },
    "tags": []
   },
   "outputs": [
    {
     "name": "stdout",
     "output_type": "stream",
     "text": [
      "\u001b[0m\u001b[01;34mcatboost_info\u001b[0m/  ensemble_model.joblib  __notebook__.ipynb  __results__.html\r\n",
      "custom.css      label_encoder.joblib   __output__.json\r\n"
     ]
    }
   ],
   "source": [
    "%ls /kaggle/input/ensemble-training/"
   ]
  },
  {
   "cell_type": "code",
   "execution_count": 2,
   "id": "900d0328",
   "metadata": {
    "execution": {
     "iopub.execute_input": "2025-06-10T04:20:50.741282Z",
     "iopub.status.busy": "2025-06-10T04:20:50.740766Z",
     "iopub.status.idle": "2025-06-10T04:21:00.062347Z",
     "shell.execute_reply": "2025-06-10T04:21:00.061553Z"
    },
    "papermill": {
     "duration": 9.326064,
     "end_time": "2025-06-10T04:21:00.063794",
     "exception": false,
     "start_time": "2025-06-10T04:20:50.737730",
     "status": "completed"
    },
    "tags": []
   },
   "outputs": [],
   "source": [
    "import os\n",
    "import polars as pl\n",
    "import pandas as pd\n",
    "import numpy as np\n",
    "import joblib\n",
    "\n",
    "# Set the model path (Kaggle input directory)\n",
    "model_path = '/kaggle/input/ensemble-training/ensemble_model.joblib'\n",
    "le_path = '/kaggle/input/ensemble-training/label_encoder.joblib'\n",
    "# model_path = '/kaggle/input/ensemble-cmo/other/default/1/ensemble_model.joblib'\n",
    "# Load the ensemble model\n",
    "model = joblib.load(model_path)\n",
    "\n",
    "# Load the label encoder (assumes it was saved as label_encoder.joblib in the same directory)\n",
    "import os\n",
    "if os.path.exists(le_path):\n",
    "    label_encoder = joblib.load(le_path)\n",
    "else:\n",
    "    label_encoder = None"
   ]
  },
  {
   "cell_type": "code",
   "execution_count": 3,
   "id": "e2c231e8",
   "metadata": {
    "execution": {
     "iopub.execute_input": "2025-06-10T04:21:00.070120Z",
     "iopub.status.busy": "2025-06-10T04:21:00.069657Z",
     "iopub.status.idle": "2025-06-10T04:21:00.074434Z",
     "shell.execute_reply": "2025-06-10T04:21:00.073703Z"
    },
    "papermill": {
     "duration": 0.008991,
     "end_time": "2025-06-10T04:21:00.075651",
     "exception": false,
     "start_time": "2025-06-10T04:21:00.066660",
     "status": "completed"
    },
    "tags": []
   },
   "outputs": [
    {
     "name": "stdout",
     "output_type": "stream",
     "text": [
      "/kaggle/working\n"
     ]
    }
   ],
   "source": [
    "%cd /kaggle/working"
   ]
  },
  {
   "cell_type": "code",
   "execution_count": 4,
   "id": "312c52a1",
   "metadata": {
    "execution": {
     "iopub.execute_input": "2025-06-10T04:21:00.081265Z",
     "iopub.status.busy": "2025-06-10T04:21:00.080876Z",
     "iopub.status.idle": "2025-06-10T04:21:00.088238Z",
     "shell.execute_reply": "2025-06-10T04:21:00.087663Z"
    },
    "papermill": {
     "duration": 0.011243,
     "end_time": "2025-06-10T04:21:00.089263",
     "exception": false,
     "start_time": "2025-06-10T04:21:00.078020",
     "status": "completed"
    },
    "tags": []
   },
   "outputs": [
    {
     "name": "stdout",
     "output_type": "stream",
     "text": [
      "LabelEncoder()\n"
     ]
    }
   ],
   "source": [
    "print(label_encoder)"
   ]
  },
  {
   "cell_type": "markdown",
   "id": "ab6e4f0f",
   "metadata": {
    "papermill": {
     "duration": 0.002183,
     "end_time": "2025-06-10T04:21:00.093891",
     "exception": false,
     "start_time": "2025-06-10T04:21:00.091708",
     "status": "completed"
    },
    "tags": []
   },
   "source": [
    "# Feature Extraction and Inference API\n",
    "This cell defines the feature extraction function and the predict function, following the competition's API format."
   ]
  },
  {
   "cell_type": "code",
   "execution_count": 5,
   "id": "d2f2c81f",
   "metadata": {
    "execution": {
     "iopub.execute_input": "2025-06-10T04:21:00.099554Z",
     "iopub.status.busy": "2025-06-10T04:21:00.099242Z",
     "iopub.status.idle": "2025-06-10T04:21:00.108547Z",
     "shell.execute_reply": "2025-06-10T04:21:00.107996Z"
    },
    "papermill": {
     "duration": 0.01347,
     "end_time": "2025-06-10T04:21:00.109667",
     "exception": false,
     "start_time": "2025-06-10T04:21:00.096197",
     "status": "completed"
    },
    "tags": []
   },
   "outputs": [],
   "source": [
    "def extract_features(sequence: pl.DataFrame, demographics: pl.DataFrame) -> pd.DataFrame:\n",
    "    # Convert to pandas if polars\n",
    "    if hasattr(sequence, 'to_pandas'):\n",
    "        df = sequence.to_pandas()\n",
    "    else:\n",
    "        df = sequence\n",
    "    if hasattr(demographics, 'to_pandas'):\n",
    "        demo = demographics.to_pandas()\n",
    "    else:\n",
    "        demo = demographics\n",
    "    feats = {}\n",
    "    numeric_cols = df.select_dtypes(include=[np.number]).columns.tolist()\n",
    "    exclude_cols = ['row_id', 'sequence_id', 'sequence_counter', 'subject']\n",
    "    numeric_cols = [c for c in numeric_cols if c not in exclude_cols]\n",
    "    # Statistical features\n",
    "    for col in numeric_cols:\n",
    "        feats[col + '_mean'] = df[col].mean()\n",
    "        feats[col + '_std'] = df[col].std()\n",
    "        feats[col + '_min'] = df[col].min()\n",
    "        feats[col + '_max'] = df[col].max()\n",
    "        feats[col + '_skew'] = df[col].skew()\n",
    "        feats[col + '_kurt'] = df[col].kurt()\n",
    "        feats[col + '_missing'] = df[col].isnull().sum()\n",
    "    # Total missing values in sequence\n",
    "    feats['total_missing'] = df.isnull().sum().sum()\n",
    "    # Duration of sequence\n",
    "    if 'sequence_counter' in df.columns:\n",
    "        feats['duration'] = df['sequence_counter'].max() - df['sequence_counter'].min()\n",
    "    else:\n",
    "        feats['duration'] = 0\n",
    "    # IMU signal energy\n",
    "    for axis in ['acc_x', 'acc_y', 'acc_z']:\n",
    "        if axis in df.columns:\n",
    "            feats[axis + '_energy'] = (df[axis] ** 2).sum()\n",
    "    # Add demographic features (excluding subject)\n",
    "    for col in demo.columns:\n",
    "        if col != 'subject':\n",
    "            feats[col] = demo[col].iloc[0]\n",
    "    # Fill NaN with 0\n",
    "    for k, v in feats.items():\n",
    "        if pd.isnull(v):\n",
    "            feats[k] = 0\n",
    "    return pd.DataFrame([feats])\n",
    "\n",
    "def predict(sequence: pl.DataFrame, demographics: pl.DataFrame) -> str:\n",
    "    X = extract_features(sequence, demographics)\n",
    "    pred = model.predict(X)[0]\n",
    "    # Đảm bảo label_encoder là đúng kiểu và có đủ class\n",
    "    if label_encoder is not None:\n",
    "        try:\n",
    "            return str(label_encoder.inverse_transform([pred])[0])\n",
    "        except Exception as e:\n",
    "            print('Label decode error:', e)\n",
    "            return str(pred)\n",
    "    return str(pred)"
   ]
  },
  {
   "cell_type": "markdown",
   "id": "7e2bf79d",
   "metadata": {
    "papermill": {
     "duration": 0.002248,
     "end_time": "2025-06-10T04:21:00.114336",
     "exception": false,
     "start_time": "2025-06-10T04:21:00.112088",
     "status": "completed"
    },
    "tags": []
   },
   "source": [
    "# Example usage\n",
    "This cell demonstrates how to use the predict function with sample data."
   ]
  },
  {
   "cell_type": "code",
   "execution_count": 6,
   "id": "25876c0a",
   "metadata": {
    "execution": {
     "iopub.execute_input": "2025-06-10T04:21:00.119651Z",
     "iopub.status.busy": "2025-06-10T04:21:00.119407Z",
     "iopub.status.idle": "2025-06-10T04:21:00.250115Z",
     "shell.execute_reply": "2025-06-10T04:21:00.249480Z"
    },
    "papermill": {
     "duration": 0.134572,
     "end_time": "2025-06-10T04:21:00.251243",
     "exception": false,
     "start_time": "2025-06-10T04:21:00.116671",
     "status": "completed"
    },
    "tags": []
   },
   "outputs": [
    {
     "name": "stdout",
     "output_type": "stream",
     "text": [
      "\u001b[0m\u001b[01;34mkaggle_evaluation\u001b[0m/  test_demographics.csv  train_demographics.csv\r\n",
      "test.csv            train.csv\r\n"
     ]
    }
   ],
   "source": [
    "%ls /kaggle/input/cmi-detect-behavior-with-sensor-data/"
   ]
  },
  {
   "cell_type": "code",
   "execution_count": 7,
   "id": "ee32239b",
   "metadata": {
    "execution": {
     "iopub.execute_input": "2025-06-10T04:21:00.257331Z",
     "iopub.status.busy": "2025-06-10T04:21:00.256770Z",
     "iopub.status.idle": "2025-06-10T04:21:00.288297Z",
     "shell.execute_reply": "2025-06-10T04:21:00.287802Z"
    },
    "papermill": {
     "duration": 0.035714,
     "end_time": "2025-06-10T04:21:00.289457",
     "exception": false,
     "start_time": "2025-06-10T04:21:00.253743",
     "status": "completed"
    },
    "tags": []
   },
   "outputs": [],
   "source": [
    "test_demo_df = pd.read_csv('/kaggle/input/cmi-detect-behavior-with-sensor-data/test_demographics.csv')\n",
    "test_seq_df = pd.read_csv('/kaggle/input/cmi-detect-behavior-with-sensor-data/test.csv')"
   ]
  },
  {
   "cell_type": "code",
   "execution_count": 8,
   "id": "7054fb65",
   "metadata": {
    "execution": {
     "iopub.execute_input": "2025-06-10T04:21:00.295251Z",
     "iopub.status.busy": "2025-06-10T04:21:00.295050Z",
     "iopub.status.idle": "2025-06-10T04:21:00.315548Z",
     "shell.execute_reply": "2025-06-10T04:21:00.314858Z"
    },
    "papermill": {
     "duration": 0.024481,
     "end_time": "2025-06-10T04:21:00.316591",
     "exception": false,
     "start_time": "2025-06-10T04:21:00.292110",
     "status": "completed"
    },
    "tags": []
   },
   "outputs": [
    {
     "data": {
      "text/html": [
       "<div>\n",
       "<style scoped>\n",
       "    .dataframe tbody tr th:only-of-type {\n",
       "        vertical-align: middle;\n",
       "    }\n",
       "\n",
       "    .dataframe tbody tr th {\n",
       "        vertical-align: top;\n",
       "    }\n",
       "\n",
       "    .dataframe thead th {\n",
       "        text-align: right;\n",
       "    }\n",
       "</style>\n",
       "<table border=\"1\" class=\"dataframe\">\n",
       "  <thead>\n",
       "    <tr style=\"text-align: right;\">\n",
       "      <th></th>\n",
       "      <th>subject</th>\n",
       "      <th>adult_child</th>\n",
       "      <th>age</th>\n",
       "      <th>sex</th>\n",
       "      <th>handedness</th>\n",
       "      <th>height_cm</th>\n",
       "      <th>shoulder_to_wrist_cm</th>\n",
       "      <th>elbow_to_wrist_cm</th>\n",
       "    </tr>\n",
       "  </thead>\n",
       "  <tbody>\n",
       "    <tr>\n",
       "      <th>0</th>\n",
       "      <td>SUBJ_016452</td>\n",
       "      <td>1</td>\n",
       "      <td>25</td>\n",
       "      <td>1</td>\n",
       "      <td>1</td>\n",
       "      <td>165.0</td>\n",
       "      <td>52</td>\n",
       "      <td>23.0</td>\n",
       "    </tr>\n",
       "    <tr>\n",
       "      <th>1</th>\n",
       "      <td>SUBJ_055840</td>\n",
       "      <td>0</td>\n",
       "      <td>13</td>\n",
       "      <td>0</td>\n",
       "      <td>1</td>\n",
       "      <td>177.0</td>\n",
       "      <td>52</td>\n",
       "      <td>27.0</td>\n",
       "    </tr>\n",
       "  </tbody>\n",
       "</table>\n",
       "</div>"
      ],
      "text/plain": [
       "       subject  adult_child  age  sex  handedness  height_cm  \\\n",
       "0  SUBJ_016452            1   25    1           1      165.0   \n",
       "1  SUBJ_055840            0   13    0           1      177.0   \n",
       "\n",
       "   shoulder_to_wrist_cm  elbow_to_wrist_cm  \n",
       "0                    52               23.0  \n",
       "1                    52               27.0  "
      ]
     },
     "execution_count": 8,
     "metadata": {},
     "output_type": "execute_result"
    }
   ],
   "source": [
    "test_demo_df.head()"
   ]
  },
  {
   "cell_type": "code",
   "execution_count": 9,
   "id": "25df35b1",
   "metadata": {
    "execution": {
     "iopub.execute_input": "2025-06-10T04:21:00.322593Z",
     "iopub.status.busy": "2025-06-10T04:21:00.322375Z",
     "iopub.status.idle": "2025-06-10T04:21:00.689570Z",
     "shell.execute_reply": "2025-06-10T04:21:00.688731Z"
    },
    "papermill": {
     "duration": 0.371348,
     "end_time": "2025-06-10T04:21:00.690634",
     "exception": false,
     "start_time": "2025-06-10T04:21:00.319286",
     "status": "completed"
    },
    "tags": []
   },
   "outputs": [
    {
     "name": "stdout",
     "output_type": "stream",
     "text": [
      "Predicted gesture: Neck - scratch\n"
     ]
    }
   ],
   "source": [
    "# Example (uncomment and adapt paths to use):\n",
    "result = predict(test_seq_df, test_demo_df)\n",
    "print('Predicted gesture:', result)"
   ]
  },
  {
   "cell_type": "markdown",
   "id": "9fe1e095",
   "metadata": {
    "papermill": {
     "duration": 0.002477,
     "end_time": "2025-06-10T04:21:00.695910",
     "exception": false,
     "start_time": "2025-06-10T04:21:00.693433",
     "status": "completed"
    },
    "tags": []
   },
   "source": [
    "# Competition Submission: Inference Server Integration\n",
    "Set up the inference server for competition submission. The server will use the trained ensemble model and the hardcoded label map to respond to inference requests."
   ]
  },
  {
   "cell_type": "code",
   "execution_count": 10,
   "id": "30521e84",
   "metadata": {
    "execution": {
     "iopub.execute_input": "2025-06-10T04:21:00.701889Z",
     "iopub.status.busy": "2025-06-10T04:21:00.701707Z",
     "iopub.status.idle": "2025-06-10T04:21:00.998237Z",
     "shell.execute_reply": "2025-06-10T04:21:00.997498Z"
    },
    "papermill": {
     "duration": 0.301073,
     "end_time": "2025-06-10T04:21:00.999600",
     "exception": false,
     "start_time": "2025-06-10T04:21:00.698527",
     "status": "completed"
    },
    "tags": []
   },
   "outputs": [],
   "source": [
    "import kaggle_evaluation.cmi_inference_server\n",
    "import polars as pl\n",
    "import os\n",
    "\n"
   ]
  },
  {
   "cell_type": "code",
   "execution_count": 11,
   "id": "d9db3ca0",
   "metadata": {
    "execution": {
     "iopub.execute_input": "2025-06-10T04:21:01.006522Z",
     "iopub.status.busy": "2025-06-10T04:21:01.006028Z",
     "iopub.status.idle": "2025-06-10T04:21:02.782927Z",
     "shell.execute_reply": "2025-06-10T04:21:02.781955Z"
    },
    "papermill": {
     "duration": 1.781987,
     "end_time": "2025-06-10T04:21:02.784558",
     "exception": false,
     "start_time": "2025-06-10T04:21:01.002571",
     "status": "completed"
    },
    "tags": []
   },
   "outputs": [],
   "source": [
    "inference_server = kaggle_evaluation.cmi_inference_server.CMIInferenceServer(predict)\n",
    "\n",
    "if os.getenv('KAGGLE_IS_COMPETITION_RERUN'):\n",
    "    inference_server.serve()\n",
    "else:\n",
    "    inference_server.run_local_gateway(\n",
    "        data_paths=(\n",
    "            '/kaggle/input/cmi-detect-behavior-with-sensor-data/test.csv',\n",
    "            '/kaggle/input/cmi-detect-behavior-with-sensor-data/test_demographics.csv',\n",
    "        )\n",
    "    )"
   ]
  }
 ],
 "metadata": {
  "kaggle": {
   "accelerator": "gpu",
   "dataSources": [
    {
     "databundleVersionId": 12518947,
     "sourceId": 102335,
     "sourceType": "competition"
    },
    {
     "sourceId": 244566809,
     "sourceType": "kernelVersion"
    }
   ],
   "dockerImageVersionId": 31040,
   "isGpuEnabled": true,
   "isInternetEnabled": false,
   "language": "python",
   "sourceType": "notebook"
  },
  "kernelspec": {
   "display_name": "Python 3",
   "language": "python",
   "name": "python3"
  },
  "language_info": {
   "codemirror_mode": {
    "name": "ipython",
    "version": 3
   },
   "file_extension": ".py",
   "mimetype": "text/x-python",
   "name": "python",
   "nbconvert_exporter": "python",
   "pygments_lexer": "ipython3",
   "version": "3.11.11"
  },
  "papermill": {
   "default_parameters": {},
   "duration": 17.012252,
   "end_time": "2025-06-10T04:21:03.605737",
   "environment_variables": {},
   "exception": null,
   "input_path": "__notebook__.ipynb",
   "output_path": "__notebook__.ipynb",
   "parameters": {},
   "start_time": "2025-06-10T04:20:46.593485",
   "version": "2.6.0"
  }
 },
 "nbformat": 4,
 "nbformat_minor": 5
}
