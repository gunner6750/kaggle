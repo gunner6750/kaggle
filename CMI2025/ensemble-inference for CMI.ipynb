{
 "cells": [
  {
   "cell_type": "markdown",
   "id": "1f442cd2",
   "metadata": {
    "papermill": {
     "duration": 0.002951,
     "end_time": "2025-06-10T04:14:30.403705",
     "exception": false,
     "start_time": "2025-06-10T04:14:30.400754",
     "status": "completed"
    },
    "tags": []
   },
   "source": [
    "the traning process is in: https://www.kaggle.com/code/llkh0a/ensemble-training/"
   ]
  },
  {
   "cell_type": "code",
   "execution_count": 1,
   "id": "53a61c31",
   "metadata": {
    "execution": {
     "iopub.execute_input": "2025-06-10T04:14:30.409640Z",
     "iopub.status.busy": "2025-06-10T04:14:30.409429Z",
     "iopub.status.idle": "2025-06-10T04:14:30.534397Z",
     "shell.execute_reply": "2025-06-10T04:14:30.533730Z"
    },
    "papermill": {
     "duration": 0.129347,
     "end_time": "2025-06-10T04:14:30.535687",
     "exception": false,
     "start_time": "2025-06-10T04:14:30.406340",
     "status": "completed"
    },
    "tags": []
   },
   "outputs": [
    {
     "name": "stdout",
     "output_type": "stream",
     "text": [
      "\u001b[0m\u001b[01;34mcatboost_info\u001b[0m/  ensemble_model.joblib  __notebook__.ipynb  __results__.html\r\n",
      "custom.css      label_encoder.joblib   __output__.json\r\n"
     ]
    }
   ],
   "source": [
    "%ls /kaggle/input/ensemble-training/"
   ]
  },
  {
   "cell_type": "code",
   "execution_count": 2,
   "id": "f91464e7",
   "metadata": {
    "execution": {
     "iopub.execute_input": "2025-06-10T04:14:30.541561Z",
     "iopub.status.busy": "2025-06-10T04:14:30.541330Z",
     "iopub.status.idle": "2025-06-10T04:14:40.727190Z",
     "shell.execute_reply": "2025-06-10T04:14:40.726601Z"
    },
    "papermill": {
     "duration": 10.190413,
     "end_time": "2025-06-10T04:14:40.728620",
     "exception": false,
     "start_time": "2025-06-10T04:14:30.538207",
     "status": "completed"
    },
    "tags": []
   },
   "outputs": [],
   "source": [
    "import os\n",
    "import polars as pl\n",
    "import pandas as pd\n",
    "import numpy as np\n",
    "import joblib\n",
    "\n",
    "# Set the model path (Kaggle input directory)\n",
    "model_path = '/kaggle/input/ensemble-training/ensemble_model.joblib'\n",
    "le_path = '/kaggle/input/ensemble-training/label_encoder.joblib'\n",
    "# model_path = '/kaggle/input/ensemble-cmo/other/default/1/ensemble_model.joblib'\n",
    "# Load the ensemble model\n",
    "model = joblib.load(model_path)\n",
    "\n",
    "# Load the label encoder (assumes it was saved as label_encoder.joblib in the same directory)\n",
    "import os\n",
    "if os.path.exists(le_path):\n",
    "    label_encoder = joblib.load(le_path)\n",
    "else:\n",
    "    label_encoder = None"
   ]
  },
  {
   "cell_type": "code",
   "execution_count": 3,
   "id": "43752eb9",
   "metadata": {
    "execution": {
     "iopub.execute_input": "2025-06-10T04:14:40.735397Z",
     "iopub.status.busy": "2025-06-10T04:14:40.734553Z",
     "iopub.status.idle": "2025-06-10T04:14:40.739073Z",
     "shell.execute_reply": "2025-06-10T04:14:40.738372Z"
    },
    "papermill": {
     "duration": 0.008635,
     "end_time": "2025-06-10T04:14:40.740107",
     "exception": false,
     "start_time": "2025-06-10T04:14:40.731472",
     "status": "completed"
    },
    "tags": []
   },
   "outputs": [
    {
     "name": "stdout",
     "output_type": "stream",
     "text": [
      "/kaggle/working\n"
     ]
    }
   ],
   "source": [
    "%cd /kaggle/working"
   ]
  },
  {
   "cell_type": "code",
   "execution_count": 4,
   "id": "e5817022",
   "metadata": {
    "execution": {
     "iopub.execute_input": "2025-06-10T04:14:40.745643Z",
     "iopub.status.busy": "2025-06-10T04:14:40.745439Z",
     "iopub.status.idle": "2025-06-10T04:14:40.753103Z",
     "shell.execute_reply": "2025-06-10T04:14:40.752414Z"
    },
    "papermill": {
     "duration": 0.011621,
     "end_time": "2025-06-10T04:14:40.754141",
     "exception": false,
     "start_time": "2025-06-10T04:14:40.742520",
     "status": "completed"
    },
    "tags": []
   },
   "outputs": [
    {
     "name": "stdout",
     "output_type": "stream",
     "text": [
      "LabelEncoder()\n"
     ]
    }
   ],
   "source": [
    "print(label_encoder)"
   ]
  },
  {
   "cell_type": "markdown",
   "id": "39f434a0",
   "metadata": {
    "papermill": {
     "duration": 0.002243,
     "end_time": "2025-06-10T04:14:40.758872",
     "exception": false,
     "start_time": "2025-06-10T04:14:40.756629",
     "status": "completed"
    },
    "tags": []
   },
   "source": [
    "# Feature Extraction and Inference API\n",
    "This cell defines the feature extraction function and the predict function, following the competition's API format."
   ]
  },
  {
   "cell_type": "code",
   "execution_count": 5,
   "id": "c34e4799",
   "metadata": {
    "execution": {
     "iopub.execute_input": "2025-06-10T04:14:40.764420Z",
     "iopub.status.busy": "2025-06-10T04:14:40.764197Z",
     "iopub.status.idle": "2025-06-10T04:14:40.772792Z",
     "shell.execute_reply": "2025-06-10T04:14:40.772277Z"
    },
    "papermill": {
     "duration": 0.012525,
     "end_time": "2025-06-10T04:14:40.773758",
     "exception": false,
     "start_time": "2025-06-10T04:14:40.761233",
     "status": "completed"
    },
    "tags": []
   },
   "outputs": [],
   "source": [
    "def extract_features(sequence: pl.DataFrame, demographics: pl.DataFrame) -> pd.DataFrame:\n",
    "    # Convert to pandas if polars\n",
    "    if hasattr(sequence, 'to_pandas'):\n",
    "        df = sequence.to_pandas()\n",
    "    else:\n",
    "        df = sequence\n",
    "    if hasattr(demographics, 'to_pandas'):\n",
    "        demo = demographics.to_pandas()\n",
    "    else:\n",
    "        demo = demographics\n",
    "    feats = {}\n",
    "    numeric_cols = df.select_dtypes(include=[np.number]).columns.tolist()\n",
    "    exclude_cols = ['row_id', 'sequence_id', 'sequence_counter', 'subject']\n",
    "    numeric_cols = [c for c in numeric_cols if c not in exclude_cols]\n",
    "    # Statistical features\n",
    "    for col in numeric_cols:\n",
    "        feats[col + '_mean'] = df[col].mean()\n",
    "        feats[col + '_std'] = df[col].std()\n",
    "        feats[col + '_min'] = df[col].min()\n",
    "        feats[col + '_max'] = df[col].max()\n",
    "        feats[col + '_skew'] = df[col].skew()\n",
    "        feats[col + '_kurt'] = df[col].kurt()\n",
    "        feats[col + '_missing'] = df[col].isnull().sum()\n",
    "    # Total missing values in sequence\n",
    "    feats['total_missing'] = df.isnull().sum().sum()\n",
    "    # Duration of sequence\n",
    "    if 'sequence_counter' in df.columns:\n",
    "        feats['duration'] = df['sequence_counter'].max() - df['sequence_counter'].min()\n",
    "    else:\n",
    "        feats['duration'] = 0\n",
    "    # IMU signal energy\n",
    "    for axis in ['acc_x', 'acc_y', 'acc_z']:\n",
    "        if axis in df.columns:\n",
    "            feats[axis + '_energy'] = (df[axis] ** 2).sum()\n",
    "    # Add demographic features (excluding subject)\n",
    "    for col in demo.columns:\n",
    "        if col != 'subject':\n",
    "            feats[col] = demo[col].iloc[0]\n",
    "    # Fill NaN with 0\n",
    "    for k, v in feats.items():\n",
    "        if pd.isnull(v):\n",
    "            feats[k] = 0\n",
    "    return pd.DataFrame([feats])\n",
    "\n",
    "def predict(sequence: pl.DataFrame, demographics: pl.DataFrame) -> str:\n",
    "    X = extract_features(sequence, demographics)\n",
    "    pred = model.predict(X)[0]\n",
    "    # Đảm bảo label_encoder là đúng kiểu và có đủ class\n",
    "    if label_encoder is not None:\n",
    "        try:\n",
    "            return str(label_encoder.inverse_transform([pred])[0])\n",
    "        except Exception as e:\n",
    "            print('Label decode error:', e)\n",
    "            return str(pred)\n",
    "    return str(pred)"
   ]
  },
  {
   "cell_type": "markdown",
   "id": "dd326b3b",
   "metadata": {
    "papermill": {
     "duration": 0.002295,
     "end_time": "2025-06-10T04:14:40.778402",
     "exception": false,
     "start_time": "2025-06-10T04:14:40.776107",
     "status": "completed"
    },
    "tags": []
   },
   "source": [
    "# Example usage\n",
    "This cell demonstrates how to use the predict function with sample data."
   ]
  },
  {
   "cell_type": "code",
   "execution_count": 6,
   "id": "496e413f",
   "metadata": {
    "execution": {
     "iopub.execute_input": "2025-06-10T04:14:40.784028Z",
     "iopub.status.busy": "2025-06-10T04:14:40.783644Z",
     "iopub.status.idle": "2025-06-10T04:14:40.914208Z",
     "shell.execute_reply": "2025-06-10T04:14:40.913355Z"
    },
    "papermill": {
     "duration": 0.134739,
     "end_time": "2025-06-10T04:14:40.915494",
     "exception": false,
     "start_time": "2025-06-10T04:14:40.780755",
     "status": "completed"
    },
    "tags": []
   },
   "outputs": [
    {
     "name": "stdout",
     "output_type": "stream",
     "text": [
      "\u001b[0m\u001b[01;34mkaggle_evaluation\u001b[0m/  test_demographics.csv  train_demographics.csv\r\n",
      "test.csv            train.csv\r\n"
     ]
    }
   ],
   "source": [
    "%ls /kaggle/input/cmi-detect-behavior-with-sensor-data/"
   ]
  },
  {
   "cell_type": "code",
   "execution_count": 7,
   "id": "bb8c95fe",
   "metadata": {
    "execution": {
     "iopub.execute_input": "2025-06-10T04:14:40.921581Z",
     "iopub.status.busy": "2025-06-10T04:14:40.921057Z",
     "iopub.status.idle": "2025-06-10T04:14:40.956295Z",
     "shell.execute_reply": "2025-06-10T04:14:40.955802Z"
    },
    "papermill": {
     "duration": 0.039346,
     "end_time": "2025-06-10T04:14:40.957337",
     "exception": false,
     "start_time": "2025-06-10T04:14:40.917991",
     "status": "completed"
    },
    "tags": []
   },
   "outputs": [],
   "source": [
    "test_demo_df = pd.read_csv('/kaggle/input/cmi-detect-behavior-with-sensor-data/test_demographics.csv')\n",
    "test_seq_df = pd.read_csv('/kaggle/input/cmi-detect-behavior-with-sensor-data/test.csv')"
   ]
  },
  {
   "cell_type": "code",
   "execution_count": 8,
   "id": "89fc1047",
   "metadata": {
    "execution": {
     "iopub.execute_input": "2025-06-10T04:14:40.963385Z",
     "iopub.status.busy": "2025-06-10T04:14:40.962851Z",
     "iopub.status.idle": "2025-06-10T04:14:40.984609Z",
     "shell.execute_reply": "2025-06-10T04:14:40.983915Z"
    },
    "papermill": {
     "duration": 0.025794,
     "end_time": "2025-06-10T04:14:40.985682",
     "exception": false,
     "start_time": "2025-06-10T04:14:40.959888",
     "status": "completed"
    },
    "tags": []
   },
   "outputs": [
    {
     "data": {
      "text/html": [
       "<div>\n",
       "<style scoped>\n",
       "    .dataframe tbody tr th:only-of-type {\n",
       "        vertical-align: middle;\n",
       "    }\n",
       "\n",
       "    .dataframe tbody tr th {\n",
       "        vertical-align: top;\n",
       "    }\n",
       "\n",
       "    .dataframe thead th {\n",
       "        text-align: right;\n",
       "    }\n",
       "</style>\n",
       "<table border=\"1\" class=\"dataframe\">\n",
       "  <thead>\n",
       "    <tr style=\"text-align: right;\">\n",
       "      <th></th>\n",
       "      <th>subject</th>\n",
       "      <th>adult_child</th>\n",
       "      <th>age</th>\n",
       "      <th>sex</th>\n",
       "      <th>handedness</th>\n",
       "      <th>height_cm</th>\n",
       "      <th>shoulder_to_wrist_cm</th>\n",
       "      <th>elbow_to_wrist_cm</th>\n",
       "    </tr>\n",
       "  </thead>\n",
       "  <tbody>\n",
       "    <tr>\n",
       "      <th>0</th>\n",
       "      <td>SUBJ_016452</td>\n",
       "      <td>1</td>\n",
       "      <td>25</td>\n",
       "      <td>1</td>\n",
       "      <td>1</td>\n",
       "      <td>165.0</td>\n",
       "      <td>52</td>\n",
       "      <td>23.0</td>\n",
       "    </tr>\n",
       "    <tr>\n",
       "      <th>1</th>\n",
       "      <td>SUBJ_055840</td>\n",
       "      <td>0</td>\n",
       "      <td>13</td>\n",
       "      <td>0</td>\n",
       "      <td>1</td>\n",
       "      <td>177.0</td>\n",
       "      <td>52</td>\n",
       "      <td>27.0</td>\n",
       "    </tr>\n",
       "  </tbody>\n",
       "</table>\n",
       "</div>"
      ],
      "text/plain": [
       "       subject  adult_child  age  sex  handedness  height_cm  \\\n",
       "0  SUBJ_016452            1   25    1           1      165.0   \n",
       "1  SUBJ_055840            0   13    0           1      177.0   \n",
       "\n",
       "   shoulder_to_wrist_cm  elbow_to_wrist_cm  \n",
       "0                    52               23.0  \n",
       "1                    52               27.0  "
      ]
     },
     "execution_count": 8,
     "metadata": {},
     "output_type": "execute_result"
    }
   ],
   "source": [
    "test_demo_df.head()"
   ]
  },
  {
   "cell_type": "code",
   "execution_count": 9,
   "id": "72c91ca0",
   "metadata": {
    "execution": {
     "iopub.execute_input": "2025-06-10T04:14:40.991662Z",
     "iopub.status.busy": "2025-06-10T04:14:40.991465Z",
     "iopub.status.idle": "2025-06-10T04:14:41.367462Z",
     "shell.execute_reply": "2025-06-10T04:14:41.366581Z"
    },
    "papermill": {
     "duration": 0.380787,
     "end_time": "2025-06-10T04:14:41.369059",
     "exception": false,
     "start_time": "2025-06-10T04:14:40.988272",
     "status": "completed"
    },
    "tags": []
   },
   "outputs": [
    {
     "name": "stdout",
     "output_type": "stream",
     "text": [
      "Predicted gesture: Neck - scratch\n"
     ]
    }
   ],
   "source": [
    "# Example (uncomment and adapt paths to use):\n",
    "result = predict(test_seq_df, test_demo_df)\n",
    "print('Predicted gesture:', result)"
   ]
  },
  {
   "cell_type": "markdown",
   "id": "3034ea81",
   "metadata": {
    "papermill": {
     "duration": 0.002763,
     "end_time": "2025-06-10T04:14:41.377294",
     "exception": false,
     "start_time": "2025-06-10T04:14:41.374531",
     "status": "completed"
    },
    "tags": []
   },
   "source": [
    "# Competition Submission: Inference Server Integration\n",
    "Set up the inference server for competition submission. The server will use the trained ensemble model and the hardcoded label map to respond to inference requests."
   ]
  },
  {
   "cell_type": "code",
   "execution_count": 10,
   "id": "6fc0f0a8",
   "metadata": {
    "execution": {
     "iopub.execute_input": "2025-06-10T04:14:41.383936Z",
     "iopub.status.busy": "2025-06-10T04:14:41.383732Z",
     "iopub.status.idle": "2025-06-10T04:14:41.682875Z",
     "shell.execute_reply": "2025-06-10T04:14:41.682347Z"
    },
    "papermill": {
     "duration": 0.30347,
     "end_time": "2025-06-10T04:14:41.684066",
     "exception": false,
     "start_time": "2025-06-10T04:14:41.380596",
     "status": "completed"
    },
    "tags": []
   },
   "outputs": [],
   "source": [
    "import kaggle_evaluation.cmi_inference_server\n",
    "import polars as pl\n",
    "import os\n",
    "\n"
   ]
  },
  {
   "cell_type": "code",
   "execution_count": 11,
   "id": "460a459b",
   "metadata": {
    "execution": {
     "iopub.execute_input": "2025-06-10T04:14:41.690671Z",
     "iopub.status.busy": "2025-06-10T04:14:41.690225Z",
     "iopub.status.idle": "2025-06-10T04:14:43.821447Z",
     "shell.execute_reply": "2025-06-10T04:14:43.820792Z"
    },
    "papermill": {
     "duration": 2.135777,
     "end_time": "2025-06-10T04:14:43.822793",
     "exception": false,
     "start_time": "2025-06-10T04:14:41.687016",
     "status": "completed"
    },
    "tags": []
   },
   "outputs": [],
   "source": [
    "inference_server = kaggle_evaluation.cmi_inference_server.CMIInferenceServer(predict)\n",
    "\n",
    "if os.getenv('KAGGLE_IS_COMPETITION_RERUN'):\n",
    "    inference_server.serve()\n",
    "else:\n",
    "    inference_server.run_local_gateway(\n",
    "        data_paths=(\n",
    "            '/kaggle/input/cmi-detect-behavior-with-sensor-data/test.csv',\n",
    "            '/kaggle/input/cmi-detect-behavior-with-sensor-data/test_demographics.csv',\n",
    "        )\n",
    "    )"
   ]
  }
 ],
 "metadata": {
  "kaggle": {
   "accelerator": "gpu",
   "dataSources": [
    {
     "databundleVersionId": 12518947,
     "sourceId": 102335,
     "sourceType": "competition"
    },
    {
     "sourceId": 244566809,
     "sourceType": "kernelVersion"
    }
   ],
   "dockerImageVersionId": 31040,
   "isGpuEnabled": true,
   "isInternetEnabled": false,
   "language": "python",
   "sourceType": "notebook"
  },
  "kernelspec": {
   "display_name": "Python 3",
   "language": "python",
   "name": "python3"
  },
  "language_info": {
   "codemirror_mode": {
    "name": "ipython",
    "version": 3
   },
   "file_extension": ".py",
   "mimetype": "text/x-python",
   "name": "python",
   "nbconvert_exporter": "python",
   "pygments_lexer": "ipython3",
   "version": "3.11.11"
  },
  "papermill": {
   "default_parameters": {},
   "duration": 18.398315,
   "end_time": "2025-06-10T04:14:44.644377",
   "environment_variables": {},
   "exception": null,
   "input_path": "__notebook__.ipynb",
   "output_path": "__notebook__.ipynb",
   "parameters": {},
   "start_time": "2025-06-10T04:14:26.246062",
   "version": "2.6.0"
  }
 },
 "nbformat": 4,
 "nbformat_minor": 5
}
